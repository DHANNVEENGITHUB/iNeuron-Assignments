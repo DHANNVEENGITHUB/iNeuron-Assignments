{
 "cells": [
  {
   "cell_type": "markdown",
   "id": "135e6837",
   "metadata": {},
   "source": [
    "Question 1 - Write a Python program to convert kilometers to miles?\n",
    "\n",
    "Answer - "
   ]
  },
  {
   "cell_type": "code",
   "execution_count": 9,
   "id": "aab9ec5a",
   "metadata": {},
   "outputs": [
    {
     "name": "stdout",
     "output_type": "stream",
     "text": [
      "Enter the km:\n",
      "8\n",
      "8km is 4.972 miles \n"
     ]
    }
   ],
   "source": [
    "km = int(input(\"Enter the km:\\n\"))\n",
    "miles = (km / 1.609)\n",
    "miles = round(miles, 3)\n",
    "print(f\"{km}km is {miles} miles \")"
   ]
  },
  {
   "cell_type": "markdown",
   "id": "81027f86",
   "metadata": {},
   "source": [
    "Question 2 - Write a Python program to convert Celsius to Fahrenheit?\n",
    "\n",
    "Answer - "
   ]
  },
  {
   "cell_type": "code",
   "execution_count": 11,
   "id": "bc71e386",
   "metadata": {},
   "outputs": [
    {
     "name": "stdout",
     "output_type": "stream",
     "text": [
      "Enter the Celsius:\n",
      "1\n",
      "1°C is 33.8°F \n"
     ]
    }
   ],
   "source": [
    "celsius = int(input(\"Enter the Celsius:\\n\"))\n",
    "fahr = (celsius * 9/5) + 32\n",
    "fahr = round(fahr, 3)\n",
    "print(f\"{celsius}°C is {fahr}°F \")"
   ]
  },
  {
   "cell_type": "markdown",
   "id": "6b5933d2",
   "metadata": {},
   "source": [
    "Question 3 - Write a Python program to display calendar?\n",
    "\n",
    "Answer:\n"
   ]
  },
  {
   "cell_type": "code",
   "execution_count": 14,
   "id": "5aeba799",
   "metadata": {},
   "outputs": [
    {
     "name": "stdout",
     "output_type": "stream",
     "text": [
      "Enter Year\n",
      "2022\n",
      "Enter Month\n",
      "6\n",
      "     June 2022\n",
      "Mo Tu We Th Fr Sa Su\n",
      "       1  2  3  4  5\n",
      " 6  7  8  9 10 11 12\n",
      "13 14 15 16 17 18 19\n",
      "20 21 22 23 24 25 26\n",
      "27 28 29 30\n",
      "\n"
     ]
    }
   ],
   "source": [
    "year = int(input(\"Enter Year\\n\"))\n",
    "month = int(input(\"Enter Month\\n\"))\n",
    "import calendar\n",
    "print(calendar.month(year, month))"
   ]
  },
  {
   "cell_type": "markdown",
   "id": "d2fbd271",
   "metadata": {},
   "source": [
    "Question 5 - Write a Python program to swap two variables without temp variable?\n",
    "\n",
    "Answer -"
   ]
  },
  {
   "cell_type": "code",
   "execution_count": 15,
   "id": "edb4f262",
   "metadata": {},
   "outputs": [
    {
     "name": "stdout",
     "output_type": "stream",
     "text": [
      "Before Swapping\n",
      "X is 10 y is 4\n",
      "After Swapping\n",
      "X is 4 y is 10\n"
     ]
    }
   ],
   "source": [
    "#No Temp Variable(Approach)\n",
    "x = 10\n",
    "y = 4\n",
    "print(\"Before Swapping\")\n",
    "print(f\"X is {x} y is {y}\")\n",
    "x, y = y, x\n",
    "print(\"After Swapping\")\n",
    "print(f\"X is {x} y is {y}\")"
   ]
  }
 ],
 "metadata": {
  "kernelspec": {
   "display_name": "Python 3",
   "language": "python",
   "name": "python3"
  },
  "language_info": {
   "codemirror_mode": {
    "name": "ipython",
    "version": 3
   },
   "file_extension": ".py",
   "mimetype": "text/x-python",
   "name": "python",
   "nbconvert_exporter": "python",
   "pygments_lexer": "ipython3",
   "version": "3.8.6"
  }
 },
 "nbformat": 4,
 "nbformat_minor": 5
}

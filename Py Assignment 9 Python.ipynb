{
 "cells": [
  {
   "cell_type": "markdown",
   "id": "7df61fec",
   "metadata": {},
   "source": [
    "Question 1 - To what does a relative path refer?\n",
    "\n",
    "Answer - It refers to a location that is relative to the current directory. It can have \".\" or \"../\""
   ]
  },
  {
   "cell_type": "markdown",
   "id": "759bac0b",
   "metadata": {},
   "source": [
    "Question 2 - What does an absolute path start with your operating system?\n",
    "\n",
    "Answer: An absolute path refers to the complete path from the root directory."
   ]
  },
  {
   "cell_type": "markdown",
   "id": "d024bc24",
   "metadata": {},
   "source": [
    "Question 3 - What do the functions os.getcwd() and os.chdir() do?\n",
    "\n",
    "Answer - os.getcwd() returns the current directrory and os.chdir() is used to change the current working directory it takes an input for directory we want to locate."
   ]
  },
  {
   "cell_type": "markdown",
   "id": "4f458e13",
   "metadata": {},
   "source": [
    "Question 4 - What are the . and .. folders?\n",
    "\n",
    "Answer - . is the current working directory whereas .. is the parent directory."
   ]
  },
  {
   "cell_type": "markdown",
   "id": "82f59270",
   "metadata": {},
   "source": [
    "Question 5 - In C:\\bacon\\eggs\\spam.txt, which part is the dir name, and which part is the base name?\n",
    "\n",
    "Answer - C:\\bacon\\eggs\\ is the directory name and spam.txt is the base name."
   ]
  },
  {
   "cell_type": "markdown",
   "id": "fb765945",
   "metadata": {},
   "source": [
    "Question 6 - What are the three “mode” arguments that can be passed to the open() function?\n",
    "\n",
    "Answer - r, w, a, t, b"
   ]
  },
  {
   "cell_type": "markdown",
   "id": "10073019",
   "metadata": {},
   "source": [
    "Question 7 - What happens if an existing file is opened in write mode?\n",
    "\n",
    "Answer - If we open an existing file in write mode the previous data will be deleted and we can enter data like a fresh new file."
   ]
  },
  {
   "cell_type": "markdown",
   "id": "9eafae62",
   "metadata": {},
   "source": [
    "Question 8 - How do you tell the difference between read() and readlines()?\n",
    "\n",
    "Answer - read() gives the whole file where as readlines() reads the files returns the lines in a list, also we can specify the lines we want to read."
   ]
  },
  {
   "cell_type": "markdown",
   "id": "4e35c210",
   "metadata": {},
   "source": [
    "Question 9 - What data structure does a shelf value resemble?\n",
    "\n",
    "Answer - Dictionary"
   ]
  }
 ],
 "metadata": {
  "kernelspec": {
   "display_name": "Python 3",
   "language": "python",
   "name": "python3"
  },
  "language_info": {
   "codemirror_mode": {
    "name": "ipython",
    "version": 3
   },
   "file_extension": ".py",
   "mimetype": "text/x-python",
   "name": "python",
   "nbconvert_exporter": "python",
   "pygments_lexer": "ipython3",
   "version": "3.8.6"
  }
 },
 "nbformat": 4,
 "nbformat_minor": 5
}

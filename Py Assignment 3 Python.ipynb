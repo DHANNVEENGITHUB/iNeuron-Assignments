{
 "cells": [
  {
   "attachments": {},
   "cell_type": "markdown",
   "id": "5f8ecad2",
   "metadata": {},
   "source": [
    "Question - Why are functions advantageous to have in your programs?\n",
    "\n",
    "Answer - They are useful because they save a lot of effort and hassles we don't need to keep writing the same code again and again instead we can just declare a function and use it all the time."
   ]
  },
  {
   "attachments": {},
   "cell_type": "markdown",
   "id": "976b0c1c",
   "metadata": {},
   "source": [
    "Question 2. When does the code in a function run: when it's specified or when it's called?\n",
    "\n",
    "Answer - It runs when the function is called.\n",
    "For Eg:\n",
    "my_function(a,b)"
   ]
  },
  {
   "cell_type": "markdown",
   "id": "f863a653",
   "metadata": {},
   "source": [
    "Question 3 - What statement creates a function?\n",
    "\n",
    "Answer - The def statement creates a function."
   ]
  },
  {
   "cell_type": "markdown",
   "id": "aa49f9a9",
   "metadata": {},
   "source": [
    "Question 4 - What is the difference between a function and function call?\n",
    "\n",
    "Answer - A funtion is a piece of code assigned and can be used from anywhere in the code, whereas a function call is when the piece of code inside the function is called."
   ]
  },
  {
   "cell_type": "markdown",
   "id": "326570bb",
   "metadata": {},
   "source": [
    "Question 5 - How many global scopes are there in a Python program? How many local scopes?                \n",
    "Answer - There are 4 scopes in a python program"
   ]
  },
  {
   "cell_type": "markdown",
   "id": "c60ec2c0",
   "metadata": {},
   "source": [
    "Question 8 - If a function does not have a return statement, what is the return value of a call to that function?       \n",
    "Answer - None"
   ]
  },
  {
   "attachments": {},
   "cell_type": "markdown",
   "id": "476ba92a",
   "metadata": {},
   "source": [
    "Question 9 - How do you make a function variable refer to the global variable?                   \n",
    "Answer - using the global keyword"
   ]
  },
  {
   "attachments": {},
   "cell_type": "markdown",
   "id": "927593a5",
   "metadata": {},
   "source": [
    "Question 10 - What is the data type of None?                           \n",
    "Answer - NoneType or None"
   ]
  },
  {
   "attachments": {},
   "cell_type": "markdown",
   "id": "ca9dab35",
   "metadata": {},
   "source": [
    "Question 11 - What does the sentence import areallyourpetsnamederic do?           \n",
    "Answer - It raises an error."
   ]
  },
  {
   "attachments": {},
   "cell_type": "markdown",
   "id": "d406ba54",
   "metadata": {},
   "source": [
    "Question 12 - If you had a bacon() feature in a spam module, what would you call it after importing spam?        \n",
    "Answer -   \n",
    "import spam\n",
    "spam.bacon()"
   ]
  },
  {
   "cell_type": "markdown",
   "id": "eb2fc9ef",
   "metadata": {},
   "source": [
    "Question 13 - What can you do to save a programme from crashing if it encounters an error?\n",
    "\n",
    "Answer - Using Try and Exception statements"
   ]
  },
  {
   "cell_type": "markdown",
   "id": "bbb1ca7c",
   "metadata": {},
   "source": [
    "Question 14 - What is the purpose of the try clause? What is the purpose of the except clause?                     \n",
    "\n",
    "Answer - Try and Exception clause is used to stop the program from crashing in case it encounters any errors.\n",
    "Try - Runs the Code, if the code has any errors or issues then its continued to the Exception - where we can see the error and check it."
   ]
  },
  {
   "cell_type": "code",
   "execution_count": null,
   "id": "48d934ff",
   "metadata": {},
   "outputs": [],
   "source": []
  }
 ],
 "metadata": {
  "kernelspec": {
   "display_name": "Python 3",
   "language": "python",
   "name": "python3"
  },
  "language_info": {
   "codemirror_mode": {
    "name": "ipython",
    "version": 3
   },
   "file_extension": ".py",
   "mimetype": "text/x-python",
   "name": "python",
   "nbconvert_exporter": "python",
   "pygments_lexer": "ipython3",
   "version": "3.8.6"
  }
 },
 "nbformat": 4,
 "nbformat_minor": 5
}

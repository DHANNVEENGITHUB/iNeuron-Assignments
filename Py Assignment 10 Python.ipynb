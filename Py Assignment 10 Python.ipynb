{
 "cells": [
  {
   "cell_type": "markdown",
   "id": "7df61fec",
   "metadata": {},
   "source": [
    "Question 1 - How do you distinguish between shutil.copy() and shutil.copytree()?\n",
    "\n",
    "Answer - shutil.copy() copies just a file whereas shutil.copytree() copies an entrie directory or folder."
   ]
  },
  {
   "cell_type": "markdown",
   "id": "759bac0b",
   "metadata": {},
   "source": [
    "Question 2 - What function is used to rename files??\n",
    "\n",
    "Answer: os.rename(previousName, newName)"
   ]
  },
  {
   "cell_type": "markdown",
   "id": "d024bc24",
   "metadata": {},
   "source": [
    "Question 3 - What is the difference between the delete functions in the send2trash and shutil modules?\n",
    "\n",
    "Answer - send2trash will send it to recycle bin whereas shutil modules permanently delete it."
   ]
  },
  {
   "cell_type": "markdown",
   "id": "4f458e13",
   "metadata": {},
   "source": [
    "Question 4 - ZipFile objects have a close() method just like File objects’ close() method. What ZipFile method is\n",
    "equivalent to File objects’ open() method?\n",
    "\n",
    "Answer - extractall() method."
   ]
  },
  {
   "cell_type": "markdown",
   "id": "4a608739",
   "metadata": {},
   "source": [
    "Question 5 - Create a programme that searches a folder tree for files with a certain file extension (such as .pdf\n",
    "or .jpg). Copy these files from whatever location they are in to a new folder.\n",
    "\n",
    "Answer -"
   ]
  },
  {
   "cell_type": "code",
   "execution_count": 21,
   "id": "815f8b63",
   "metadata": {},
   "outputs": [],
   "source": [
    "import os, shutil\n",
    "\n",
    "for file in os.listdir(\".\"):\n",
    "    if file.endswith(\".pdf\") or file.endswith(\".jpg\"):\n",
    "        print(file)\n",
    "        shutil.copyfile(file, f\"../newFolder/{file}\")"
   ]
  }
 ],
 "metadata": {
  "kernelspec": {
   "display_name": "Python 3",
   "language": "python",
   "name": "python3"
  },
  "language_info": {
   "codemirror_mode": {
    "name": "ipython",
    "version": 3
   },
   "file_extension": ".py",
   "mimetype": "text/x-python",
   "name": "python",
   "nbconvert_exporter": "python",
   "pygments_lexer": "ipython3",
   "version": "3.8.6"
  }
 },
 "nbformat": 4,
 "nbformat_minor": 5
}

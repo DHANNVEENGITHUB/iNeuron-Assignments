{
 "cells": [
  {
   "cell_type": "markdown",
   "id": "7df61fec",
   "metadata": {},
   "source": [
    "Question 1 - How many seconds are in an hour? Use the interactive interpreter as a calculator and multiply the\n",
    "number of seconds in a minute (60) by the number of minutes in an hour (also 60).\n",
    "\n",
    "Answer - 3600 Seconds are there in an hour,"
   ]
  },
  {
   "cell_type": "code",
   "execution_count": 3,
   "id": "c521fa3f",
   "metadata": {},
   "outputs": [
    {
     "name": "stdout",
     "output_type": "stream",
     "text": [
      "Seconds in an hour are 3600 seconds.\n"
     ]
    }
   ],
   "source": [
    "num_of_seconds = 60\n",
    "num_of_minutes = 60\n",
    "print(f\"Seconds in an hour are {num_of_seconds*num_of_minutes} seconds.\")"
   ]
  },
  {
   "cell_type": "markdown",
   "id": "759bac0b",
   "metadata": {},
   "source": [
    "Question 2 - Assign the result from the previous task (seconds in an hour) to a variable called\n",
    "seconds_per_hour.\n",
    "\n",
    "Answer: "
   ]
  },
  {
   "cell_type": "code",
   "execution_count": 4,
   "id": "9275e5dc",
   "metadata": {},
   "outputs": [],
   "source": [
    "seconds_per_hour = num_of_seconds*num_of_minutes"
   ]
  },
  {
   "cell_type": "markdown",
   "id": "d024bc24",
   "metadata": {},
   "source": [
    "Question 3 & 4 - How many seconds do you think there are in a day? Make use of the variables seconds per hour\n",
    "and minutes per hour.\n",
    "\n"
   ]
  },
  {
   "cell_type": "code",
   "execution_count": 7,
   "id": "91eef2e0",
   "metadata": {},
   "outputs": [],
   "source": [
    "hours_in_a_day = 24\n",
    "seconds_per_day = hours_in_a_day*seconds_per_hour"
   ]
  },
  {
   "cell_type": "markdown",
   "id": "4f458e13",
   "metadata": {},
   "source": [
    "Question 5 & 6\n",
    "\n",
    "Answer - "
   ]
  },
  {
   "cell_type": "code",
   "execution_count": 14,
   "id": "f3e2c1d0",
   "metadata": {},
   "outputs": [
    {
     "name": "stdout",
     "output_type": "stream",
     "text": [
      "24.0\n",
      "24\n",
      "True\n"
     ]
    }
   ],
   "source": [
    "print(seconds_per_day/seconds_per_hour) # / Floating Point Division \n",
    "print(seconds_per_day//seconds_per_hour) # // Integer Point Division \n",
    "print(seconds_per_day/seconds_per_hour == seconds_per_day//seconds_per_hour) # Yes they are the same"
   ]
  },
  {
   "cell_type": "markdown",
   "id": "11bede8e",
   "metadata": {},
   "source": [
    "Question 7 - Write a generator, genPrimes, that returns the sequence of prime numbers on successive calls to\n",
    "its next() method: 2, 3, 5, 7, 11, ...\n",
    "\n",
    "Answer - "
   ]
  }
 ],
 "metadata": {
  "kernelspec": {
   "display_name": "Python 3",
   "language": "python",
   "name": "python3"
  },
  "language_info": {
   "codemirror_mode": {
    "name": "ipython",
    "version": 3
   },
   "file_extension": ".py",
   "mimetype": "text/x-python",
   "name": "python",
   "nbconvert_exporter": "python",
   "pygments_lexer": "ipython3",
   "version": "3.8.6"
  }
 },
 "nbformat": 4,
 "nbformat_minor": 5
}

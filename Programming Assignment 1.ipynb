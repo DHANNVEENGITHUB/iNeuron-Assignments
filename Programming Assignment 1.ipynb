{
 "cells": [
  {
   "cell_type": "markdown",
   "id": "135e6837",
   "metadata": {},
   "source": [
    "Question 1 - Write a Python program to print &quot;Hello Python&quot;?\n",
    "\n",
    "Answer - \n",
    "\n",
    "print(\"Hello World\")"
   ]
  },
  {
   "cell_type": "markdown",
   "id": "81027f86",
   "metadata": {},
   "source": [
    "Question 2 - Write a Python program to do arithmetical operations addition and division.?\n",
    "\n",
    "Answer - "
   ]
  },
  {
   "cell_type": "code",
   "execution_count": 2,
   "id": "bc71e386",
   "metadata": {},
   "outputs": [
    {
     "name": "stdout",
     "output_type": "stream",
     "text": [
      "12\n",
      "8\n",
      "20\n",
      "5.0\n"
     ]
    }
   ],
   "source": [
    "def addition(f1, f2):\n",
    "    return f1 + f2\n",
    "def subtraction(f1, f2):\n",
    "    return f1 - f2\n",
    "def multiplication(f1, f2):\n",
    "    return f1 * f2\n",
    "def division(f1, f2):\n",
    "    return f1/f2\n",
    "\n",
    "print(addition(10, 2))\n",
    "print(subtraction(10, 2))\n",
    "print(multiplication(10, 2))\n",
    "print(division(10, 2))"
   ]
  },
  {
   "cell_type": "markdown",
   "id": "6b5933d2",
   "metadata": {},
   "source": [
    "Question 3 - Write a Python program to find the area of a triangle?\n",
    "\n",
    "Answer:\n"
   ]
  },
  {
   "cell_type": "code",
   "execution_count": 3,
   "id": "5aeba799",
   "metadata": {},
   "outputs": [
    {
     "name": "stdout",
     "output_type": "stream",
     "text": [
      "25.0\n"
     ]
    }
   ],
   "source": [
    "# Formula = 1/2 * length * breadth\n",
    "length = 10\n",
    "breadth = 5\n",
    "area = 1/2 * length * breadth\n",
    "print(area)"
   ]
  },
  {
   "cell_type": "markdown",
   "id": "d2fbd271",
   "metadata": {},
   "source": [
    "Question 4 - Write a Python program to swap two variables?\n",
    "\n",
    "Answer -"
   ]
  },
  {
   "cell_type": "code",
   "execution_count": 5,
   "id": "edb4f262",
   "metadata": {},
   "outputs": [
    {
     "name": "stdout",
     "output_type": "stream",
     "text": [
      "Before Swapping\n",
      "X is 10 y is 4\n",
      "After Swapping\n",
      "X is 4 y is 10\n"
     ]
    }
   ],
   "source": [
    "x = 10\n",
    "y = 4\n",
    "print(\"Before Swapping\")\n",
    "print(f\"X is {x} y is {y}\")\n",
    "x, y = y, x\n",
    "print(\"After Swapping\")\n",
    "print(f\"X is {x} y is {y}\")"
   ]
  },
  {
   "cell_type": "markdown",
   "id": "0d300d16",
   "metadata": {},
   "source": [
    "Question 5 - Write a Python program to generate a random number?\n",
    "\n",
    "Answer - "
   ]
  },
  {
   "cell_type": "code",
   "execution_count": 10,
   "id": "2a44bc60",
   "metadata": {},
   "outputs": [
    {
     "name": "stdout",
     "output_type": "stream",
     "text": [
      "99\n"
     ]
    }
   ],
   "source": [
    "from random import randint\n",
    "print(randint(1, 100))"
   ]
  }
 ],
 "metadata": {
  "kernelspec": {
   "display_name": "Python 3",
   "language": "python",
   "name": "python3"
  },
  "language_info": {
   "codemirror_mode": {
    "name": "ipython",
    "version": 3
   },
   "file_extension": ".py",
   "mimetype": "text/x-python",
   "name": "python",
   "nbconvert_exporter": "python",
   "pygments_lexer": "ipython3",
   "version": "3.8.6"
  }
 },
 "nbformat": 4,
 "nbformat_minor": 5
}

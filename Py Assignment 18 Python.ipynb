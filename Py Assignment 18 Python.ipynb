{
 "cells": [
  {
   "cell_type": "markdown",
   "id": "7df61fec",
   "metadata": {},
   "source": [
    "Question 1 - Create a zoo.py file first. Define the hours() function, which prints the string &#39;Open 9-5 daily&#39;.\n",
    "Then, use the interactive interpreter to import the zoo module and call its hours() function.\n",
    "\n",
    "Answer - \n",
    "\n",
    "#zoo.py\n",
    "\n",
    "def hours():\n",
    "\n",
    "         print(\"Open 9-5 daily\")\n",
    "\n",
    "#main.py\n",
    "\n",
    "import zoo\n",
    "\n",
    "zoo.hours()"
   ]
  },
  {
   "cell_type": "markdown",
   "id": "759bac0b",
   "metadata": {},
   "source": [
    "Question 2 - In the interactive interpreter, import the zoo module as menagerie and call its hours() function.\n",
    "\n",
    "Answer: \n",
    "\n",
    "import zoo as menagerie\n",
    "\n",
    "menagerie.hours()"
   ]
  },
  {
   "cell_type": "markdown",
   "id": "d024bc24",
   "metadata": {},
   "source": [
    "Question 3 - Using the interpreter, explicitly import and call the hours() function from zoo.\n",
    "\n",
    "Answer - \n",
    "\n",
    "from zoo import hours\n",
    "\n",
    "hours()"
   ]
  },
  {
   "cell_type": "markdown",
   "id": "4f458e13",
   "metadata": {},
   "source": [
    "Question 3 - Import the hours() function as info and call it.\n",
    "\n",
    "Answer - \n",
    "\n",
    "from zoo import hours as info\n",
    "\n",
    "info()"
   ]
  },
  {
   "cell_type": "markdown",
   "id": "11bede8e",
   "metadata": {},
   "source": [
    "Question 5 - Create a plain dictionary with the key-value pairs &#39;a&#39;: 1, &#39;b&#39;: 2, and &#39;c&#39;: 3, and print it out.\n",
    "Answer - \n",
    "\n",
    "dict = { \"a\": 1, \"b\": 2, \"c\": 3 } \n",
    "\n",
    "print(dict)"
   ]
  }
 ],
 "metadata": {
  "kernelspec": {
   "display_name": "Python 3",
   "language": "python",
   "name": "python3"
  },
  "language_info": {
   "codemirror_mode": {
    "name": "ipython",
    "version": 3
   },
   "file_extension": ".py",
   "mimetype": "text/x-python",
   "name": "python",
   "nbconvert_exporter": "python",
   "pygments_lexer": "ipython3",
   "version": "3.8.6"
  }
 },
 "nbformat": 4,
 "nbformat_minor": 5
}

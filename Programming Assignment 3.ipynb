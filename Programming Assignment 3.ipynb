{
 "cells": [
  {
   "cell_type": "markdown",
   "id": "135e6837",
   "metadata": {},
   "source": [
    "Question 1 - What is the concept of an abstract superclass?\n",
    "\n",
    "Answer - \n",
    "\n",
    "They can be used to reuse code, through which we can inherit classes and static methods. "
   ]
  },
  {
   "cell_type": "markdown",
   "id": "81027f86",
   "metadata": {},
   "source": [
    "Question 3 - Why does a class need to manually call a superclass&#39;s __init__ method?\n",
    "\n",
    "Answer - Its a contructor which is used to initialize the variables and static methods."
   ]
  },
  {
   "cell_type": "markdown",
   "id": "6b5933d2",
   "metadata": {},
   "source": [
    "Question 4 - How can you augment, instead of completely replacing, an inherited method?\n",
    "\n",
    "Answer:"
   ]
  },
  {
   "cell_type": "code",
   "execution_count": 8,
   "id": "5aeba799",
   "metadata": {},
   "outputs": [
    {
     "name": "stdout",
     "output_type": "stream",
     "text": [
      "Hello I am Dhannveen Uppal and I am 13 years old.\n",
      "I work as a CEO at a $700000000000000 salary.\n"
     ]
    }
   ],
   "source": [
    "#Creating Root Class Person\n",
    "\n",
    "class Person:\n",
    "    def __init__(self, name, age):\n",
    "        self.name = name\n",
    "        self.age = age\n",
    "    def giveInfo(self):\n",
    "        print(f\"Hello I am {self.name} and I am {self.age} years old\")\n",
    "\n",
    "class Employee(Person):\n",
    "    def __init__(self, name, age, job, salary):\n",
    "        self.name = name\n",
    "        self.age = age\n",
    "        self.job = job\n",
    "        self.salary = salary\n",
    "        \n",
    "    def employeeInfo(self):\n",
    "        print(f\"Hello I am {self.name} and I am {self.age} years old.\")\n",
    "        print(f\"I work as a {self.job} at a ${self.salary} salary.\")\n",
    "        \n",
    "dhannveen = Employee(name=\"Dhannveen Uppal\", age=13, job=\"CEO\", salary=700000000000000)\n",
    "dhannveen.employeeInfo()"
   ]
  },
  {
   "cell_type": "markdown",
   "id": "d2fbd271",
   "metadata": {},
   "source": [
    "Question 5 - How is the local scope of a class different from that of a function?\n",
    "\n",
    "Answer - Variables or scopes defined inside a function cannot be accessed from other functions or outside of it."
   ]
  }
 ],
 "metadata": {
  "kernelspec": {
   "display_name": "Python 3",
   "language": "python",
   "name": "python3"
  },
  "language_info": {
   "codemirror_mode": {
    "name": "ipython",
    "version": 3
   },
   "file_extension": ".py",
   "mimetype": "text/x-python",
   "name": "python",
   "nbconvert_exporter": "python",
   "pygments_lexer": "ipython3",
   "version": "3.8.6"
  }
 },
 "nbformat": 4,
 "nbformat_minor": 5
}

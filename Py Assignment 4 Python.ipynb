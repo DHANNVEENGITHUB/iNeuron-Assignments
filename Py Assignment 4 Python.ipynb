{
 "cells": [
  {
   "cell_type": "markdown",
   "id": "f3e2b4c6",
   "metadata": {},
   "source": [
    "Question 1 - What exactly is []? \n",
    "\n",
    "Answer - [] is an exmpty list, a list is an ordered sequence of elements than is mutable or can be changed."
   ]
  },
  {
   "cell_type": "markdown",
   "id": "6c23eaf0",
   "metadata": {},
   "source": [
    "Question 2 - In a list of values stored in a variable called spam, how would you assign the value 'hello' as the third value? \n",
    "\n",
    "Answer - spam[2] = \"hello\""
   ]
  },
  {
   "cell_type": "code",
   "execution_count": 1,
   "id": "e32f7085",
   "metadata": {},
   "outputs": [],
   "source": [
    "spam = ['a', 'b', 'c', 'd']"
   ]
  },
  {
   "cell_type": "markdown",
   "id": "8f3212cc",
   "metadata": {},
   "source": [
    "Question 3 - What is the value of spam[int(int('3' * 2) / 11)]?       \n",
    "Answer: d"
   ]
  },
  {
   "cell_type": "code",
   "execution_count": 5,
   "id": "079678b4",
   "metadata": {},
   "outputs": [
    {
     "data": {
      "text/plain": [
       "'d'"
      ]
     },
     "execution_count": 5,
     "metadata": {},
     "output_type": "execute_result"
    }
   ],
   "source": [
    "spam[int(int('3' * 2)/11)]"
   ]
  },
  {
   "cell_type": "markdown",
   "id": "8576b57e",
   "metadata": {},
   "source": [
    "Question 4 - What is the value of spam[-1]     \n",
    "Answer: d"
   ]
  },
  {
   "cell_type": "code",
   "execution_count": 6,
   "id": "50647b7f",
   "metadata": {},
   "outputs": [
    {
     "data": {
      "text/plain": [
       "'d'"
      ]
     },
     "execution_count": 6,
     "metadata": {},
     "output_type": "execute_result"
    }
   ],
   "source": [
    "spam[-1]"
   ]
  },
  {
   "cell_type": "markdown",
   "id": "e29407b5",
   "metadata": {},
   "source": [
    "Question 5 - What is the value of spam[-2]     \n",
    "Answer: c"
   ]
  },
  {
   "cell_type": "code",
   "execution_count": 7,
   "id": "4c8703be",
   "metadata": {},
   "outputs": [
    {
     "data": {
      "text/plain": [
       "'c'"
      ]
     },
     "execution_count": 7,
     "metadata": {},
     "output_type": "execute_result"
    }
   ],
   "source": [
    "spam[-2]"
   ]
  },
  {
   "cell_type": "code",
   "execution_count": 19,
   "id": "15139eac",
   "metadata": {},
   "outputs": [],
   "source": [
    "bacon = [3.14, 'cat', 11, 'cat', True]"
   ]
  },
  {
   "cell_type": "markdown",
   "id": "9741d6e8",
   "metadata": {},
   "source": [
    "Question - What is the value of bacon.index('cat')?    \n",
    "\n",
    "Answer - 3"
   ]
  },
  {
   "cell_type": "markdown",
   "id": "1d405856",
   "metadata": {},
   "source": [
    "Question 7 - How does bacon.append(99) change the look of the list value in bacon?\n",
    "\n",
    "Answer - It will add 99 to the end of the list. "
   ]
  },
  {
   "cell_type": "markdown",
   "id": "f77956a4",
   "metadata": {},
   "source": [
    "Question 8 - How does bacon.remove(cat) change the look of the list in bacon?\n",
    "\n",
    "Answer - It will remove the first cat element from the list."
   ]
  },
  {
   "cell_type": "markdown",
   "id": "bd014ac3",
   "metadata": {},
   "source": [
    "Question 9 - What are the list concatenation and list replication operators?\n",
    "\n",
    "Answer - + for list concatenation and * for list replication."
   ]
  },
  {
   "cell_type": "markdown",
   "id": "0deb07de",
   "metadata": {},
   "source": [
    "Question 10 - What is difference between the list methods append() and insert()?\n",
    "\n",
    "Answer - Append will insert the element at the end of the list whereas insert will apend it the element at a particular index"
   ]
  },
  {
   "cell_type": "markdown",
   "id": "9fe8c0e9",
   "metadata": {},
   "source": [
    "Question 11 - What are the two methods for removing items from a list?   \n",
    "\n",
    "Answer - The two methods of removing items from a list are using remove pop."
   ]
  },
  {
   "cell_type": "markdown",
   "id": "465e4c1e",
   "metadata": {},
   "source": [
    "Question 12 - Describe how list values and string values are identical.                 \n",
    "\n",
    "Answer - List Values and Strings are identical because they both are ordered they both have indexed values."
   ]
  },
  {
   "cell_type": "markdown",
   "id": "ecdda7d4",
   "metadata": {},
   "source": [
    "Question 13 - What is the difference between lists and tuples?\n",
    "\n",
    "Answer - Tuples are immutable and hence cannot be changed whereas list can be changed and they are mutable."
   ]
  },
  {
   "cell_type": "markdown",
   "id": "94c4e079",
   "metadata": {},
   "source": [
    "Question 14 - How do you type a tuple value that only contains the integer 42?\n",
    "\n",
    "Answer - \n",
    "a = (42,)"
   ]
  },
  {
   "cell_type": "markdown",
   "id": "ebb35dae",
   "metadata": {},
   "source": [
    "Question 15 - How do you get a list value&#39;s tuple form? How do you get a tuple value&#39;s list form?\n",
    "\n",
    "Answer:                    "
   ]
  },
  {
   "cell_type": "code",
   "execution_count": 31,
   "id": "a72fbbcf",
   "metadata": {},
   "outputs": [
    {
     "name": "stdout",
     "output_type": "stream",
     "text": [
      "[45, 56]\n"
     ]
    }
   ],
   "source": [
    "a = (45, 56)\n",
    "aList = list(a)\n",
    "print(aList)"
   ]
  },
  {
   "cell_type": "markdown",
   "id": "83df0ff5",
   "metadata": {},
   "source": [
    "Question 16 - Variables that contains list values are not necessarily lists themselves. Instead, what do they contain?\n",
    "\n",
    "Answer - They could be tuples or dicts that contain lists or other values."
   ]
  }
 ],
 "metadata": {
  "kernelspec": {
   "display_name": "Python 3",
   "language": "python",
   "name": "python3"
  },
  "language_info": {
   "codemirror_mode": {
    "name": "ipython",
    "version": 3
   },
   "file_extension": ".py",
   "mimetype": "text/x-python",
   "name": "python",
   "nbconvert_exporter": "python",
   "pygments_lexer": "ipython3",
   "version": "3.8.6"
  }
 },
 "nbformat": 4,
 "nbformat_minor": 5
}

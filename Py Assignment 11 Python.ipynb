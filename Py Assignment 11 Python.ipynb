{
 "cells": [
  {
   "cell_type": "markdown",
   "id": "7df61fec",
   "metadata": {},
   "source": [
    "Question 1 - Create an assert statement that throws an AssertionError if the variable spam is a negative\n",
    "integer.\n",
    "\n",
    "Answer - assert spam > 0"
   ]
  },
  {
   "cell_type": "markdown",
   "id": "759bac0b",
   "metadata": {},
   "source": [
    "Question 2 - Write an assert statement that triggers an AssertionError if the variables eggs and bacon contain\n",
    "strings that are the same as each other, even if their cases are different (that is, &#39;hello&#39; and &#39;hello&#39; are\n",
    "considered the same, and &#39;goodbye&#39; and &#39;GOODbye&#39; are also considered the same).\n",
    "\n",
    "Answer: assert eggs.lower() != bacon.lower()                                "
   ]
  },
  {
   "cell_type": "markdown",
   "id": "d024bc24",
   "metadata": {},
   "source": [
    "Question 3 - Create an assert statement that throws an AssertionError every time.\n",
    "\n",
    "Answer - assert False"
   ]
  },
  {
   "cell_type": "markdown",
   "id": "4f458e13",
   "metadata": {},
   "source": [
    "Question 4 - What are the two lines that must be present in your software in order to call logging.debug()?\n",
    "\n",
    "Answer - \n",
    "\n",
    "import logging \n",
    "\n",
    "logging.basicConfig(level=logging.DEBUG)"
   ]
  },
  {
   "cell_type": "markdown",
   "id": "11bede8e",
   "metadata": {},
   "source": [
    "Question 5 - What are the two lines that your program must have in order to have logging.debug() send a\n",
    "logging message to a file named programLog.txt?\n",
    "\n",
    "Answer - \n",
    "\n",
    "import logging \n",
    "\n",
    "logging.basicConfig(filename=\"programLog.txt\", level=logging.DEBUG)"
   ]
  },
  {
   "cell_type": "markdown",
   "id": "fb765945",
   "metadata": {},
   "source": [
    "Question 6 - What are the five levels of logging?\n",
    "\n",
    "Answer - Debugging, Error, Warning, Info, Critical"
   ]
  },
  {
   "cell_type": "markdown",
   "id": "82f59270",
   "metadata": {},
   "source": [
    "Question 7 - What line of code would you add to your software to disable all logging messages?\n",
    "\n",
    "Answer - \n",
    "\n",
    "logging.disable()"
   ]
  },
  {
   "cell_type": "markdown",
   "id": "e0df8709",
   "metadata": {},
   "source": [
    "Question 8 - Why is using logging messages better than using print() to display the same message?\n",
    "\n",
    "Answer - Its better since we can easily disable logging messages and it also provides timestamps."
   ]
  },
  {
   "cell_type": "markdown",
   "id": "10073019",
   "metadata": {},
   "source": [
    "Question 10 - After you click Continue, when will the debugger stop ?\n",
    "\n",
    "Answer - When it finishes the program or finds a breakpoint."
   ]
  },
  {
   "cell_type": "markdown",
   "id": "802f8190",
   "metadata": {},
   "source": [
    "Question 11 - What is the concept of a breakpoint?\n",
    "\n",
    "Answer - Breakpoints is when the code stops on a particular line."
   ]
  }
 ],
 "metadata": {
  "kernelspec": {
   "display_name": "Python 3",
   "language": "python",
   "name": "python3"
  },
  "language_info": {
   "codemirror_mode": {
    "name": "ipython",
    "version": 3
   },
   "file_extension": ".py",
   "mimetype": "text/x-python",
   "name": "python",
   "nbconvert_exporter": "python",
   "pygments_lexer": "ipython3",
   "version": "3.8.6"
  }
 },
 "nbformat": 4,
 "nbformat_minor": 5
}

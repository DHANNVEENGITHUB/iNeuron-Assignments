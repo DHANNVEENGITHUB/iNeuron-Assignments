{
 "cells": [
  {
   "cell_type": "markdown",
   "id": "f47db352",
   "metadata": {},
   "source": [
    "# Questions\n",
    "\n",
    "1.Explain the term machine learning, and how does it work? Explain two machine learning\n",
    "applications in the business world. What are some of the ethical concerns that machine learning\n",
    "applications could raise?\n",
    "\n",
    "2.Describe the process of human learning:\n",
    "\n",
    "i. Under the supervision of experts\n",
    "\n",
    "ii. With the assistance of experts in an indirect manner\n",
    "\n",
    "iii. Self-education\n",
    "\n",
    "3.Provide a few examples of various types of machine learning.\n",
    "\n",
    "4.Examine the various forms of machine learning.\n",
    "\n",
    "5.Can you explain what a well-posed learning problem is? Explain the main characteristics that must\n",
    "be present to identify a learning problem properly.\n",
    "\n",
    "6.Is machine learning capable of solving all problems? Give a detailed explanation of your answer.\n",
    "\n",
    "7.What are the various methods and technologies for solving machine learning problems? Any two\n",
    "of them should be defined in detail.\n",
    "\n",
    "8.Can you explain the various forms of supervised learning? Explain each one with an example\n",
    "application.\n",
    "\n",
    "9.What is the difference between supervised and unsupervised learning? With a sample application\n",
    "in each region, explain the differences.\n",
    "\n",
    "10.Describe the machine learning process in depth.\n",
    "\n",
    "  2. Deep learning applications in healthcare\n",
    "\n",
    "  4. Linear regression (simple)\n",
    "\n",
    "11.Make a comparison between:-\n",
    "\n",
    "1. Generalization and abstraction\n",
    "\n",
    "2. Learning that is guided and unsupervised\n",
    "\n",
    "3. Regression and classification"
   ]
  },
  {
   "cell_type": "markdown",
   "id": "87da36f1",
   "metadata": {},
   "source": [
    "# Answers"
   ]
  },
  {
   "cell_type": "markdown",
   "id": "a6d52ab5",
   "metadata": {},
   "source": [
    "Question 1 - Explain the term machine learning, and how does it work? Explain two machine learning\n",
    "applications in the business world. What are some of the ethical concerns that machine learning\n",
    "applications could raise?\n",
    "\n",
    "Answer - Machine learning can be used to train machines to learn real world data and making predictions using the machine. Machine learning can be used for Stock Market Prediction and Analysis, which can predict the correct prices of stocks. It can also be used for Predicting Fraudlent transactions."
   ]
  },
  {
   "cell_type": "markdown",
   "id": "2f6f7599",
   "metadata": {},
   "source": [
    "Question 2 - Describe the process of human learning:\n",
    "\n",
    "i. Under the supervision of experts\n",
    "\n",
    "ii. With the assistance of experts in an indirect manner\n",
    "\n",
    "iii. Self-education"
   ]
  },
  {
   "cell_type": "markdown",
   "id": "45978bfd",
   "metadata": {},
   "source": [
    "Question 3 - Provide a few examples of various types of machine learning?\n",
    "\n",
    "Answer - Supervised Learning, Unsupervised Learning and Reinforcement Learning"
   ]
  },
  {
   "cell_type": "markdown",
   "id": "747959ac",
   "metadata": {},
   "source": [
    "Question 4 - Examine the various forms of machine learning.\n",
    "\n",
    "Answer - \n",
    "\n",
    "Supervised Machine Learning\n",
    "It includes the use of labeled dataset to make predictions absed on the features.\n",
    "\n",
    "Unsupervised Machine Learning\n",
    "It includes training the model based on unlabeled dataset, the ML model learns patterns from unlabeled dataset and then makes predictions.\n",
    "\n",
    "Reinforcement Learning\n",
    "It includes training pre trained models on new and different data and functions on the principle of rewarding for correct predictions and penalising for wrong predictions."
   ]
  },
  {
   "cell_type": "markdown",
   "id": "3135da8d",
   "metadata": {},
   "source": [
    "Question 5 - Can you explain what a well-posed learning problem is? Explain the main characteristics that must\n",
    "be present to identify a learning problem properly.\n",
    "\n",
    "Answer - Its when a ML model is trained on certain dataset and the prediction to the unique feature is like an outlier."
   ]
  },
  {
   "cell_type": "markdown",
   "id": "1ad6587b",
   "metadata": {},
   "source": [
    "Question 6 - Is machine learning capable of solving all problems? Give a detailed explanation of your answer.\n",
    "\n",
    "Answer - Machine learning can be used to solve various problems, but there are certain problems which include a lot of computation or processing where in deep learning can be used. There are also problems for which the predictions can have huge amount of outliers."
   ]
  },
  {
   "cell_type": "markdown",
   "id": "fa5c70f2",
   "metadata": {},
   "source": [
    "Question 7 - What are the various methods and technologies for solving machine learning problems? Any two\n",
    "of them should be defined in detail.\n",
    "\n",
    "Answer - There are various ML algorithms which include Regression, Decision Tree, Random Forest, KNN, Logistic Regression, Elastic Net, etc."
   ]
  },
  {
   "cell_type": "markdown",
   "id": "bd0fcf7c",
   "metadata": {},
   "source": [
    "Question 8 - Can you explain the various forms of supervised learning? Explain each one with an example\n",
    "application.\n",
    "\n",
    "Answer - Gaussian Naive Bayes. Decision Trees. Support Vector Machine (SVM) Random Forest.\n",
    "\n",
    "Decision Trees - \n",
    "Spam or Ham Mail\n",
    "\n",
    "Support Vector Machine -\n",
    "MNIST dataset"
   ]
  },
  {
   "cell_type": "markdown",
   "id": "0edf150b",
   "metadata": {},
   "source": [
    "Question 9 - What is the difference between supervised and unsupervised learning? With a sample application\n",
    "in each region, explain the differences.\n",
    "\n",
    "Answer - \n",
    "\n",
    "Supervised Machine Learning Algorithms includes the use of labeled dataset to make predictions based on the features.\n",
    "Unsupervised  Learning is training the model based on unlabeled dataset, the ML model learns patterns from unlabeled dataset and then makes predictions. \n",
    "\n",
    "Supervised Learning Eg - Fraudlent transaction classification\n",
    "\n",
    "Unsupervised Learning Eg - Pattern recognition, Audience Segmentation.\n"
   ]
  },
  {
   "cell_type": "markdown",
   "id": "d2cbcb1e",
   "metadata": {},
   "source": [
    "Question 12 - Describe the machine learning process in depth.\n",
    "\n",
    "  2. Deep learning applications in healthcare\n",
    "  \n",
    "  Deep Learning can be used to predict diseases before hand. For example, deep learning algorithms are used for diabetic retinopathy detection, early detection of Alzheimer\n",
    "\n",
    "\n",
    "  4. Linear regression (simple)\n",
    "  \n",
    "  Simple Linear Regression includes having one feature x and a label y on which the ML model is trained using the Gradient Descent algorithm and then its used to make predictions."
   ]
  },
  {
   "cell_type": "code",
   "execution_count": null,
   "id": "0b5c7762",
   "metadata": {},
   "outputs": [],
   "source": []
  }
 ],
 "metadata": {
  "kernelspec": {
   "display_name": "Python 3",
   "language": "python",
   "name": "python3"
  },
  "language_info": {
   "codemirror_mode": {
    "name": "ipython",
    "version": 3
   },
   "file_extension": ".py",
   "mimetype": "text/x-python",
   "name": "python",
   "nbconvert_exporter": "python",
   "pygments_lexer": "ipython3",
   "version": "3.8.6"
  }
 },
 "nbformat": 4,
 "nbformat_minor": 5
}

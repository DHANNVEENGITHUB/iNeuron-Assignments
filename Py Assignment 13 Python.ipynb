{
 "cells": [
  {
   "cell_type": "markdown",
   "id": "7df61fec",
   "metadata": {},
   "source": [
    "Question 1 - What advantages do Excel spreadsheets have over CSV spreadsheets?\n",
    "\n",
    "Answer - In Excel we can perform operations over data whereas in csv we cannot, Excel is also better for storing complex data."
   ]
  },
  {
   "cell_type": "markdown",
   "id": "759bac0b",
   "metadata": {},
   "source": [
    "Question 2 - What do you pass to csv.reader() and csv.writer() to create reader and writer objects?\n",
    "\n",
    "Answer: Arguments such as filename, delimeter                          "
   ]
  },
  {
   "cell_type": "markdown",
   "id": "d024bc24",
   "metadata": {},
   "source": [
    "Question 3 - What modes do File objects for reader and writer objects need to be opened in?\n",
    "\n",
    "Answer - "
   ]
  },
  {
   "cell_type": "markdown",
   "id": "4f458e13",
   "metadata": {},
   "source": [
    "Question 4 - What method takes a list argument and writes it to a CSV file?\n",
    "\n",
    "Answer - writerows()"
   ]
  },
  {
   "cell_type": "markdown",
   "id": "11bede8e",
   "metadata": {},
   "source": [
    "Question 5 - What do the keyword arguments delimiter and line terminator do?\n",
    "Answer - \n",
    "\n",
    "Delimeter is like the seperator for CSV files its \",\" and line terminator is for new line."
   ]
  },
  {
   "cell_type": "markdown",
   "id": "fb765945",
   "metadata": {},
   "source": [
    "Question 6 - What function takes a string of JSON data and returns a Python data structure?\n",
    "\n",
    "Answer - \n",
    "import json\n",
    "\n",
    "json.loads()"
   ]
  },
  {
   "cell_type": "markdown",
   "id": "82f59270",
   "metadata": {},
   "source": [
    "Question 7 - What function takes a Python data structure and returns a string of JSON data?\n",
    "\n",
    "Answer - \n",
    "\n",
    "import json\n",
    "\n",
    "json.dumps()"
   ]
  }
 ],
 "metadata": {
  "kernelspec": {
   "display_name": "Python 3",
   "language": "python",
   "name": "python3"
  },
  "language_info": {
   "codemirror_mode": {
    "name": "ipython",
    "version": 3
   },
   "file_extension": ".py",
   "mimetype": "text/x-python",
   "name": "python",
   "nbconvert_exporter": "python",
   "pygments_lexer": "ipython3",
   "version": "3.8.6"
  }
 },
 "nbformat": 4,
 "nbformat_minor": 5
}

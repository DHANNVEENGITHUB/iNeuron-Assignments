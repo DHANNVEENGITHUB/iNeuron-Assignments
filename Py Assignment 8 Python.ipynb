{
 "cells": [
  {
   "cell_type": "markdown",
   "id": "7df61fec",
   "metadata": {},
   "source": [
    "Question 1 - Is the Python Standard Library included with PyInputPlus?\n",
    "\n",
    "Answer - "
   ]
  },
  {
   "cell_type": "markdown",
   "id": "759bac0b",
   "metadata": {},
   "source": [
    "Question 2 - Why is PyInputPlus commonly imported with import pyinputplus as pypi?\n",
    "\n",
    "Answer: PyInputPlus is imported as pypi to use a shorter form when calling functions and methods."
   ]
  },
  {
   "cell_type": "markdown",
   "id": "d024bc24",
   "metadata": {},
   "source": [
    "Question 3 - How do you distinguish between inputInt() and inputFloat()?\n",
    "\n",
    "Answer - inputInt() returns an integer and inputFloat() return a float decimal value."
   ]
  },
  {
   "cell_type": "markdown",
   "id": "4f458e13",
   "metadata": {},
   "source": [
    "Question 4 - Using PyInputPlus, how do you ensure that the user enters a whole number between 0 and 99?\n",
    "\n",
    "Answer - pyip.inputInt('Number', min=0, max=99)"
   ]
  },
  {
   "cell_type": "markdown",
   "id": "82f59270",
   "metadata": {},
   "source": [
    "Question 5 - What is transferred to the keyword arguments allowRegexes and blockRegexes?\n",
    "\n",
    "Answer - "
   ]
  },
  {
   "cell_type": "markdown",
   "id": "fb765945",
   "metadata": {},
   "source": [
    "Question 6 - If a blank input is entered three times, what does inputStr(limit=3) do?\n",
    "\n",
    "Answer - It will give an error."
   ]
  },
  {
   "cell_type": "markdown",
   "id": "10073019",
   "metadata": {},
   "source": [
    "Question 7 - If blank input is entered three times, what does inputStr(limit=3, default=&#39;hello&#39;) do?\n",
    "\n",
    "Answer - It returns a none value."
   ]
  }
 ],
 "metadata": {
  "kernelspec": {
   "display_name": "Python 3",
   "language": "python",
   "name": "python3"
  },
  "language_info": {
   "codemirror_mode": {
    "name": "ipython",
    "version": 3
   },
   "file_extension": ".py",
   "mimetype": "text/x-python",
   "name": "python",
   "nbconvert_exporter": "python",
   "pygments_lexer": "ipython3",
   "version": "3.8.6"
  }
 },
 "nbformat": 4,
 "nbformat_minor": 5
}

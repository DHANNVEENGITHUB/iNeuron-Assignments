{
 "cells": [
  {
   "cell_type": "markdown",
   "id": "f47db352",
   "metadata": {},
   "source": [
    "# Questions\n",
    "\n",
    "1.What is the concept of human learning? Please give two examples.\n",
    "\n",
    "2.What different forms of human learning are there? Are there any machine learning equivalents?\n",
    "\n",
    "3.What is machine learning, and how does it work? What are the key responsibilities of machine\n",
    "learning?\n",
    "\n",
    "4.Define the terms &quot;penalty&quot; and &quot;reward&quot; in the context of reinforcement learning.\n",
    "\n",
    "5.Explain the term &quot;learning as a search&quot;?\n",
    "\n",
    "6.What are the various goals of machine learning? What is the relationship between these and\n",
    "human learning?\n",
    "\n",
    "7.Illustrate the various elements of machine learning using a real-life illustration.\n",
    "\n",
    "8.Provide an example of the abstraction method.\n",
    "\n",
    "9.What is the concept of generalization? What function does it play in the machine learning\n",
    "process?\n",
    "\n",
    "10.What is classification, exactly? What are the main distinctions between classification and regression?\n",
    "\n",
    "11.What is regression, and how does it work? Give an example of a real-world problem that was\n",
    "solved using regression.\n",
    "\n",
    "12.Describe the clustering mechanism in detail.\n",
    "\n",
    "13.Make brief observations on two of the following topics:\n",
    "\n",
    "    i. Machine learning algorithms are used\n",
    "    ii. Studying under supervision\n",
    "    iii. Studying without supervision\n",
    "    iv. Reinforcement learning is a form of learning based on positive reinforcement."
   ]
  },
  {
   "cell_type": "markdown",
   "id": "87da36f1",
   "metadata": {},
   "source": [
    "# Answers"
   ]
  },
  {
   "cell_type": "markdown",
   "id": "a6d52ab5",
   "metadata": {},
   "source": [
    "Question 1 - What is the concept of human learning? Please give two examples.\n",
    "\n",
    "Answer - Humans learn by training, For Eg: A Kid is shown that this is a bat and the other thing is a ball, so next time the kid will automatically classify the bat and ball"
   ]
  },
  {
   "cell_type": "markdown",
   "id": "2f6f7599",
   "metadata": {},
   "source": [
    "Question 2 - What different forms of human learning are there? Are there any machine learning equivalents?\n",
    "\n",
    "Answer - Classification Learning, Regression Learning, Yes there are many models to mimic the human learning system."
   ]
  },
  {
   "cell_type": "markdown",
   "id": "45978bfd",
   "metadata": {},
   "source": [
    "Question 3 - What is machine learning, and how does it work? What are the key responsibilities of machine learning?\n",
    "\n",
    "Answer - Machine learning is based on the concept of training and testing, it involves teaching the machine for a given dataset and then testing its accuracy. The responsibilites of ML include giving appropriate recommendations for Recommendation Systems, replying correctly for a chatbot, classifying the mail correctly into spam or ham and many more."
   ]
  },
  {
   "cell_type": "markdown",
   "id": "747959ac",
   "metadata": {},
   "source": [
    "Question 4 - Define the terms \"penalty\" and \"reward\" in the context of reinforcement learning.\n",
    "\n",
    "Answer - Reinforcement learning involves training a pretrain model once more based on the concept of rewarding on correct predictions and peanlising it over wrong predictions."
   ]
  },
  {
   "cell_type": "markdown",
   "id": "3135da8d",
   "metadata": {},
   "source": [
    "Question 5 - Explain the term \"learning as a search\"?\n",
    "\n",
    "Answer - The ML Model searches for the best fit line or equation, to make the predictions as accurate as possible."
   ]
  },
  {
   "cell_type": "markdown",
   "id": "1ad6587b",
   "metadata": {},
   "source": [
    "Question 6 - What are the various goals of machine learning? What is the relationship between these and human learning?\n",
    "\n",
    "Answer - Goals of machine learning is to reduce human effort, making machines accurate, Make practical prediction. Humans also learn through the concept of recognizing and training and machine also do the same."
   ]
  },
  {
   "cell_type": "markdown",
   "id": "dfcb872a",
   "metadata": {},
   "source": [
    "Question 7 - Illustrate the various elements of machine learning using a real-life illustration.\n",
    "\n",
    "Answer - \n",
    "1. Youtube Recommended Videos\n",
    "2. Emails marked as spam\n",
    "3. Cancer prediction"
   ]
  },
  {
   "cell_type": "markdown",
   "id": "fa5c70f2",
   "metadata": {},
   "source": [
    "Question 9 - What is the concept of generalization? What function does it play in the machine learning process?\n",
    "\n",
    "Answer - Generalization is to use the model for non regular data and see how well it performs. Techniques include - Lasso and Ridge Regression, Overfitting and Undefitting techniques."
   ]
  },
  {
   "cell_type": "markdown",
   "id": "bd0fcf7c",
   "metadata": {},
   "source": [
    "Question 10 - What is classification, exactly? What are the main distinctions between classification and regression?\n",
    "\n",
    "Answer - Classification is the prediction between categories it could be binary or non binary prediction. The difference between Classification and Regression is that regression could be numerical decimal data or constinuous whereas classification has to be from set of choices."
   ]
  },
  {
   "cell_type": "markdown",
   "id": "0edf150b",
   "metadata": {},
   "source": [
    "Question 11 - What is regression, and how does it work? Give an example of a real-world problem that was\n",
    "solved using regression.\n",
    "\n",
    "Answer - Regression is the numerical prediction using features, various methods for Regression include Linear Regression, Logistic Regression and L1, L2 Regression. Examples are House Price Prediction, Stock Price Prediction."
   ]
  },
  {
   "cell_type": "markdown",
   "id": "d2cbcb1e",
   "metadata": {},
   "source": [
    "Question 12 - Describe the clustering mechanism in detail.\n",
    "\n",
    "Answer - Clustering is an unsupervised learning technique where in the categories are not labeled by default, but we have to run ML Models to create a boundary within the two, three or more types of data."
   ]
  },
  {
   "cell_type": "markdown",
   "id": "947302e8",
   "metadata": {},
   "source": [
    "Question 13 - Make brief observations on two of the following topics:\n",
    "\n",
    "    i. Machine learning algorithms are used - Machine learning algorithms are used to recognize patterns within the datasets and use those to make predictions. Examples include Linear Regresion and Logistic Regression.\n",
    "        \n",
    "    iv. Reinforcement learning is a form of learning based on positive reinforcement - It works on a principle of penalising and rewarding, rewarding for correct predictions and peanlising for wrong predictions."
   ]
  }
 ],
 "metadata": {
  "kernelspec": {
   "display_name": "Python 3",
   "language": "python",
   "name": "python3"
  },
  "language_info": {
   "codemirror_mode": {
    "name": "ipython",
    "version": 3
   },
   "file_extension": ".py",
   "mimetype": "text/x-python",
   "name": "python",
   "nbconvert_exporter": "python",
   "pygments_lexer": "ipython3",
   "version": "3.8.6"
  }
 },
 "nbformat": 4,
 "nbformat_minor": 5
}

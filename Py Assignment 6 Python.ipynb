{
 "cells": [
  {
   "cell_type": "markdown",
   "id": "7df61fec",
   "metadata": {},
   "source": [
    "Question 1 - What does an empty dictionary code look like?\n",
    "\n",
    "Answer - An escape character is a backslash \\ followed by the character you want to insert.\n",
    "An escape character has is a special case character which can be used to perform certain functions in strings, such as escape character \\n can be used to take the string to a new line."
   ]
  },
  {
   "cell_type": "markdown",
   "id": "759bac0b",
   "metadata": {},
   "source": [
    "Question 2 - What do the escape characters n and t stand for?\n",
    "Answer: Escape Character \\n can be used to take the string to a new line and \\t can be used for tabbing.                                                   "
   ]
  },
  {
   "cell_type": "markdown",
   "id": "d024bc24",
   "metadata": {},
   "source": [
    "Question 3 - What is the way to include backslash characters in a string?\n",
    "\n",
    "Answer - \"\\\\\" can be used to include a backslash in a string"
   ]
  },
  {
   "cell_type": "markdown",
   "id": "4f458e13",
   "metadata": {},
   "source": [
    "Question 4 - The string &quot;Howl&#39;s Moving Castle&quot; is a correct value. Why isn&#39;t the single quote character in the\n",
    "word Howl&#39;s not escaped a problem?\n",
    "\n",
    "Answer - Since the string's wrapped inside double quotes."
   ]
  },
  {
   "cell_type": "markdown",
   "id": "11bede8e",
   "metadata": {},
   "source": [
    "Question 5 - How do you write a string of newlines if you don&#39;t want to use the n character?\n",
    "\n",
    "Answer - \\t"
   ]
  },
  {
   "cell_type": "markdown",
   "id": "82f59270",
   "metadata": {},
   "source": [
    "Question 6 - What are the values of the given expressions?\n",
    "\n",
    "Answer - \n",
    "'Hello, World!'[1] = e\n",
    "\n",
    "'Hello, World!'[0:5] = Hello\n",
    "\n",
    "'Hello, World!'[:5] = Hello\n",
    "\n",
    "'Hello, World!'[3:] = lo, World!"
   ]
  },
  {
   "cell_type": "markdown",
   "id": "fb765945",
   "metadata": {},
   "source": [
    "Question 7 - What are the values of the following expressions?\n",
    "\n",
    "'Hello'.upper() - HELLO\n",
    "\n",
    "'Hello'.upper().isupper() - True\n",
    " \n",
    "'Hello'.upper().lower() - hello"
   ]
  },
  {
   "cell_type": "markdown",
   "id": "e0df8709",
   "metadata": {},
   "source": [
    "Question 8 - What are the values of the following expressions?\n",
    "\n",
    "'Remember, remember, the fifth of July.'.split() - ['Remember,', 'remember,', 'the', 'fifth', 'of', 'July.']\n",
    "\n",
    "'-'.join('There can only one.'.split()) - There-can-only-one."
   ]
  },
  {
   "cell_type": "markdown",
   "id": "10073019",
   "metadata": {},
   "source": [
    "Question 9 - What are the methods for right-justifying, left-justifying, and centering a string?\n",
    "\n",
    "Answer - Using ljust() rjust() and center()"
   ]
  },
  {
   "cell_type": "markdown",
   "id": "802f8190",
   "metadata": {},
   "source": [
    "Question 10 - What is the best way to remove whitespace characters from the start or end?\n",
    "\n",
    "Answer - Using trimStart() and trimEnd()"
   ]
  },
  {
   "cell_type": "code",
   "execution_count": null,
   "id": "0190ed33",
   "metadata": {},
   "outputs": [],
   "source": []
  }
 ],
 "metadata": {
  "kernelspec": {
   "display_name": "Python 3",
   "language": "python",
   "name": "python3"
  },
  "language_info": {
   "codemirror_mode": {
    "name": "ipython",
    "version": 3
   },
   "file_extension": ".py",
   "mimetype": "text/x-python",
   "name": "python",
   "nbconvert_exporter": "python",
   "pygments_lexer": "ipython3",
   "version": "3.8.6"
  }
 },
 "nbformat": 4,
 "nbformat_minor": 5
}

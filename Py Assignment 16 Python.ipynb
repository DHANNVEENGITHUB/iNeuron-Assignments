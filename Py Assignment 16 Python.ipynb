{
 "cells": [
  {
   "cell_type": "markdown",
   "id": "7df61fec",
   "metadata": {},
   "source": [
    "Question 1 - Create a list called years_list, starting with the year of your birth, and each year thereafter until\n",
    "the year of your fifth birthday. For example, if you were born in 1980. the list would be years_list =\n",
    "[1980, 1981, 1982, 1983, 1984, 1985].\n",
    "\n",
    "Answer - "
   ]
  },
  {
   "cell_type": "code",
   "execution_count": 4,
   "id": "a574d396",
   "metadata": {},
   "outputs": [
    {
     "name": "stdout",
     "output_type": "stream",
     "text": [
      "[2008, 2009, 2010, 2011, 2012]\n"
     ]
    }
   ],
   "source": [
    "birthYear = 2008\n",
    "years_list = []\n",
    "for i in range(5):\n",
    "    years_list.append(birthYear + i)\n",
    "print(years_list)"
   ]
  },
  {
   "cell_type": "markdown",
   "id": "759bac0b",
   "metadata": {},
   "source": [
    "Question 2 - In which year in years_list was your third birthday? Remember, you were 0 years of age for your\n",
    "first year.\n",
    "\n",
    "Answer: 2010 Year of [2] Index"
   ]
  },
  {
   "cell_type": "markdown",
   "id": "d024bc24",
   "metadata": {},
   "source": [
    "Question 3 - In the years list, which year were you the oldest?\n",
    "\n",
    "Answer - "
   ]
  },
  {
   "cell_type": "code",
   "execution_count": 5,
   "id": "8769f814",
   "metadata": {},
   "outputs": [
    {
     "data": {
      "text/plain": [
       "2012"
      ]
     },
     "execution_count": 5,
     "metadata": {},
     "output_type": "execute_result"
    }
   ],
   "source": [
    "years_list[-1]"
   ]
  },
  {
   "cell_type": "markdown",
   "id": "4f458e13",
   "metadata": {},
   "source": [
    "Question 4 - Make a list called things with these three strings as elements: &quot;mozzarella&quot;, &quot;cinderella&quot;,\n",
    "&quot;salmonella&quot;.\n",
    "\n",
    "Answer - "
   ]
  },
  {
   "cell_type": "code",
   "execution_count": 15,
   "id": "8e1806f4",
   "metadata": {},
   "outputs": [],
   "source": [
    "things = [\"mozzarella\", \"cinderella\", \"salmonella\"]"
   ]
  },
  {
   "cell_type": "markdown",
   "id": "11bede8e",
   "metadata": {},
   "source": [
    "Question 5 - Capitalize the element in things that refers to a person and then print the list. Did it change the\n",
    "element in the list?\n",
    "\n",
    "Answer - "
   ]
  },
  {
   "cell_type": "code",
   "execution_count": 16,
   "id": "f6b08e8b",
   "metadata": {},
   "outputs": [
    {
     "data": {
      "text/plain": [
       "'Cinderella'"
      ]
     },
     "execution_count": 16,
     "metadata": {},
     "output_type": "execute_result"
    }
   ],
   "source": [
    "things[1].capitalize() # It does not change the elements in the list"
   ]
  },
  {
   "cell_type": "markdown",
   "id": "fb765945",
   "metadata": {},
   "source": [
    "Question 6 - Make a surprise list with the elements &quot;Groucho,&quot; &quot;Chico,&quot; and &quot;Harpo.&quot;\n",
    "\n",
    "Question 7 - Lowercase the last element of the surprise list, reverse it, and then capitalize it.\n",
    "\n",
    "Answer - "
   ]
  },
  {
   "cell_type": "code",
   "execution_count": 22,
   "id": "21a732a6",
   "metadata": {},
   "outputs": [
    {
     "data": {
      "text/plain": [
       "'Oprah'"
      ]
     },
     "execution_count": 22,
     "metadata": {},
     "output_type": "execute_result"
    }
   ],
   "source": [
    "surprise_list = [\"Groucho\", \"Chico\", \"Harpo\"]\n",
    "surprise_list[-1].lower()[::-1].capitalize()"
   ]
  },
  {
   "cell_type": "markdown",
   "id": "82f59270",
   "metadata": {},
   "source": [
    "Question 8 - Make an English-to-French dictionary called e2f and print it. Here are your starter words: dog is\n",
    "chien, cat is chat, and walrus is morse.\n",
    "\n",
    "Question 9 - Write the French word for walrus in your three-word dictionary e2f.\n",
    "\n",
    "Question 10 - Make a French-to-English dictionary called f2e from e2f. Use the items method.\n",
    "\n",
    "Question 11 - Print the English version of the French word chien using f2e.\n",
    "\n",
    "Question 12 - Make and print a set of English words from the keys in e2f.\n",
    "\n",
    "Answer - \n"
   ]
  },
  {
   "cell_type": "code",
   "execution_count": 23,
   "id": "63a4fdb5",
   "metadata": {},
   "outputs": [],
   "source": [
    "e2f = { \"dog\": \"chien\", \"cat\": \"chat\", \"walrus\": \"morse\" } # Question 8"
   ]
  },
  {
   "cell_type": "code",
   "execution_count": 25,
   "id": "fab2ae9e",
   "metadata": {},
   "outputs": [
    {
     "data": {
      "text/plain": [
       "'morse'"
      ]
     },
     "execution_count": 25,
     "metadata": {},
     "output_type": "execute_result"
    }
   ],
   "source": [
    "e2f[\"walrus\"] # Question 9"
   ]
  },
  {
   "cell_type": "code",
   "execution_count": 28,
   "id": "b370c368",
   "metadata": {},
   "outputs": [],
   "source": [
    "f2e = {french: english for english, french in e2f.items()} # Question 10"
   ]
  },
  {
   "cell_type": "code",
   "execution_count": 30,
   "id": "39d5b49f",
   "metadata": {},
   "outputs": [
    {
     "data": {
      "text/plain": [
       "{'chien': 'dog', 'chat': 'cat', 'morse': 'walrus'}"
      ]
     },
     "execution_count": 30,
     "metadata": {},
     "output_type": "execute_result"
    }
   ],
   "source": [
    "f2e # Question 10"
   ]
  },
  {
   "cell_type": "code",
   "execution_count": 31,
   "id": "60bd222a",
   "metadata": {},
   "outputs": [
    {
     "data": {
      "text/plain": [
       "'dog'"
      ]
     },
     "execution_count": 31,
     "metadata": {},
     "output_type": "execute_result"
    }
   ],
   "source": [
    "f2e[\"chien\"] # Question 11"
   ]
  },
  {
   "cell_type": "code",
   "execution_count": 34,
   "id": "a465d607",
   "metadata": {},
   "outputs": [
    {
     "name": "stdout",
     "output_type": "stream",
     "text": [
      "dog is chien in french\n",
      "cat is chat in french\n",
      "walrus is morse in french\n"
     ]
    }
   ],
   "source": [
    "# Question 12\n",
    "for i in e2f:\n",
    "    print(f\"{i} is {e2f[i]} in french\")"
   ]
  }
 ],
 "metadata": {
  "kernelspec": {
   "display_name": "Python 3",
   "language": "python",
   "name": "python3"
  },
  "language_info": {
   "codemirror_mode": {
    "name": "ipython",
    "version": 3
   },
   "file_extension": ".py",
   "mimetype": "text/x-python",
   "name": "python",
   "nbconvert_exporter": "python",
   "pygments_lexer": "ipython3",
   "version": "3.8.6"
  }
 },
 "nbformat": 4,
 "nbformat_minor": 5
}

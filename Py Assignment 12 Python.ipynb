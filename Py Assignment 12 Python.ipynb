{
 "cells": [
  {
   "cell_type": "markdown",
   "id": "7df61fec",
   "metadata": {},
   "source": [
    "Question 1 - In what modes should the PdfFileReader() and PdfFileWriter() File objects will be opened?\n",
    "\n",
    "Answer - PdfFileReader() should be opened in rb mode and PdfFileWriter() should be opened in wb mode."
   ]
  },
  {
   "cell_type": "markdown",
   "id": "759bac0b",
   "metadata": {},
   "source": [
    "Question 2 - From a PdfFileReader object, how do you get a Page object for page 5?\n",
    "\n",
    "Answer: getPage(5)                             "
   ]
  },
  {
   "cell_type": "markdown",
   "id": "d024bc24",
   "metadata": {},
   "source": [
    "Question 3 - What PdfFileReader variable stores the number of pages in the PDF document?\n",
    "\n",
    "Answer - numPages variable"
   ]
  },
  {
   "cell_type": "markdown",
   "id": "4f458e13",
   "metadata": {},
   "source": [
    "Question 4 - If a PdfFileReader object’s PDF is encrypted with the password swordfish, what must you do\n",
    "before you can obtain Page objects from it?\n",
    "\n",
    "Answer - decrypt(\"swordfish\")"
   ]
  },
  {
   "cell_type": "markdown",
   "id": "11bede8e",
   "metadata": {},
   "source": [
    "Question 5 - What methods do you use to rotate a page?\n",
    "\n",
    "Answer - \n",
    "\n",
    "rotateClockwise(180)"
   ]
  },
  {
   "cell_type": "markdown",
   "id": "fb765945",
   "metadata": {},
   "source": [
    "Question 6 - What is the difference between a Run object and a Paragraph object?\n",
    "\n",
    "Answer - "
   ]
  },
  {
   "cell_type": "markdown",
   "id": "82f59270",
   "metadata": {},
   "source": [
    "Question 7 - How do you obtain a list of Paragraph objects for a Document object that’s stored in a variable\n",
    "named doc?\n",
    "\n",
    "Answer - \n",
    "\n",
    "doc.paragraphs"
   ]
  },
  {
   "cell_type": "markdown",
   "id": "e0df8709",
   "metadata": {},
   "source": [
    "Question 8 - What type of object has bold, underline, italic, strike, and outline variables?\n",
    "\n",
    "Answer - Paragraph"
   ]
  }
 ],
 "metadata": {
  "kernelspec": {
   "display_name": "Python 3",
   "language": "python",
   "name": "python3"
  },
  "language_info": {
   "codemirror_mode": {
    "name": "ipython",
    "version": 3
   },
   "file_extension": ".py",
   "mimetype": "text/x-python",
   "name": "python",
   "nbconvert_exporter": "python",
   "pygments_lexer": "ipython3",
   "version": "3.8.6"
  }
 },
 "nbformat": 4,
 "nbformat_minor": 5
}

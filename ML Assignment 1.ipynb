{
 "cells": [
  {
   "cell_type": "markdown",
   "id": "f47db352",
   "metadata": {},
   "source": [
    "# Questions\n",
    "\n",
    "1.What does one mean by the term machine learning?\n",
    "\n",
    "2.Can you think of 4 distinct types of issues where it shines?\n",
    "\n",
    "3.What is a labeled training set, and how does it work?\n",
    "\n",
    "4.What are the two most important tasks that are supervised?\n",
    "\n",
    "5.Can you think of four examples of unsupervised tasks?\n",
    "\n",
    "6.State the machine learning model that would be best to make a robot walk through various\n",
    "unfamiliar terrains?\n",
    "\n",
    "7.Which algorithm will you use to divide your customers into different groups?\n",
    "\n",
    "8.Will you consider the problem of spam detection to be a supervised or unsupervised learning\n",
    "problem?"
   ]
  },
  {
   "cell_type": "markdown",
   "id": "87da36f1",
   "metadata": {},
   "source": [
    "# Answers"
   ]
  },
  {
   "cell_type": "markdown",
   "id": "a6d52ab5",
   "metadata": {},
   "source": [
    "Question 1 - What does one mean by the term &quot;machine learning&quot;?\n",
    "\n",
    "Answer - Machine Learning is a way of using given Data to make prediction with the use of Algorithms. It sees the patterns in the dataset and then uses those to make prediction for the new features. Examples Include - Reccomendations Systems, Bots."
   ]
  },
  {
   "cell_type": "markdown",
   "id": "2f6f7599",
   "metadata": {},
   "source": [
    "Question 2 - Can you think of 4 distinct types of issues where it shines?\n",
    "\n",
    "Answer - Recommendation Systems, Chat Bots, House Price Prediction, Stock Market Analysis."
   ]
  },
  {
   "cell_type": "markdown",
   "id": "45978bfd",
   "metadata": {},
   "source": [
    "Question 3 - What is a labeled training set, and how does it work?\n",
    "\n",
    "Answer - Basically the Machine is provided with a traning labeled dataset through which it learns the patterns and then its tested using another dataset through which we see the accuracy of our ML Model."
   ]
  },
  {
   "cell_type": "markdown",
   "id": "747959ac",
   "metadata": {},
   "source": [
    "Question 4 - What are the two most important tasks that are supervised?\n",
    "\n",
    "Answer - Classification and Regression"
   ]
  },
  {
   "cell_type": "markdown",
   "id": "3135da8d",
   "metadata": {},
   "source": [
    "Question 5 - Can you think of four examples of unsupervised tasks?\n",
    "\n",
    "Answer - Clustering, KNN"
   ]
  },
  {
   "cell_type": "markdown",
   "id": "1ad6587b",
   "metadata": {},
   "source": [
    "Question 6 - State the machine learning model that would be best to make a robot walk through various\n",
    "unfamiliar terrains?\n",
    "\n",
    "Answer - Reinforcement Learning"
   ]
  },
  {
   "cell_type": "markdown",
   "id": "dfcb872a",
   "metadata": {},
   "source": [
    "Question 7 - Which algorithm will you use to divide your customers into different groups?\n",
    "\n",
    "Answer - KNN"
   ]
  },
  {
   "cell_type": "markdown",
   "id": "fa5c70f2",
   "metadata": {},
   "source": [
    "Question 8 - Will you consider the problem of spam detection to be a supervised or unsupervised learning\n",
    "problem?\n",
    "\n",
    "Answer - Supervised Learning"
   ]
  },
  {
   "cell_type": "code",
   "execution_count": null,
   "id": "0a63c1e9",
   "metadata": {},
   "outputs": [],
   "source": []
  }
 ],
 "metadata": {
  "kernelspec": {
   "display_name": "Python 3",
   "language": "python",
   "name": "python3"
  },
  "language_info": {
   "codemirror_mode": {
    "name": "ipython",
    "version": 3
   },
   "file_extension": ".py",
   "mimetype": "text/x-python",
   "name": "python",
   "nbconvert_exporter": "python",
   "pygments_lexer": "ipython3",
   "version": "3.8.6"
  }
 },
 "nbformat": 4,
 "nbformat_minor": 5
}

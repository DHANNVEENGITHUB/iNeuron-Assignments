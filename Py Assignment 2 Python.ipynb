{
 "cells": [
  {
   "cell_type": "markdown",
   "id": "74524a8f",
   "metadata": {},
   "source": [
    "Question 1 - What are the two values of the Boolean data type? How do you write them?\n",
    "\n",
    "Answer 1 - True and False,\n",
    "x = True\n",
    "y = False"
   ]
  },
  {
   "cell_type": "markdown",
   "id": "f656f2fe",
   "metadata": {},
   "source": [
    "Question 2 - What are the three different types of Boolean operators?                       \n",
    "Answer 2 - And, Or, Not"
   ]
  },
  {
   "cell_type": "markdown",
   "id": "f9f79ccb",
   "metadata": {},
   "source": [
    "Question 4. What are the values of the following expressions?                    \n",
    "Answer - (5 > 4) and (3 == 5) - False\n",
    "not (5 > 4) - False\n",
    "(5 > 4) or (3 == 5) - True\n",
    "not ((5 > 4) or (3 == 5)) - False\n",
    "(True and True) and (True == False) - False\n",
    "(not False) or (not True) - True"
   ]
  },
  {
   "cell_type": "markdown",
   "id": "c95f8cd5",
   "metadata": {},
   "source": [
    "Question 5. What are the six comparison operators?                                        \n",
    "Answer - ==, !=, >=, <=, >, <"
   ]
  },
  {
   "cell_type": "markdown",
   "id": "1572913b",
   "metadata": {},
   "source": [
    "Question 6. How do you tell the difference between the equal to and assignment operators?Describe a condition and when you would use one.\n",
    "\n",
    "Answer - == is used for boolean check to check if two values are equal whereas = is used for assignment of variables."
   ]
  },
  {
   "cell_type": "markdown",
   "id": "9baeb054",
   "metadata": {},
   "source": [
    "Question 7. Identify the three blocks in this code:                           \n",
    "Answer -  \n",
    "1. spam = 0\n",
    "2. if spam == 10:\n",
    "       print('eggs')\n",
    "3. if spam > 5:\n",
    "    print('bacon')\n",
    "   else:\n",
    "    print('ham')\n",
    "    print('spam')\n",
    "    print('spam')"
   ]
  },
  {
   "cell_type": "markdown",
   "id": "9c201aec",
   "metadata": {},
   "source": [
    "Question 8 - Write code that prints Hello if 1 is stored in spam, prints Howdy if 2 is stored in spam, and prints Greetings! if anything else is stored in spam.\n",
    "\n",
    "Answer:"
   ]
  },
  {
   "cell_type": "code",
   "execution_count": 2,
   "id": "0977a1a5",
   "metadata": {},
   "outputs": [
    {
     "name": "stdout",
     "output_type": "stream",
     "text": [
      "Greetings\n"
     ]
    }
   ],
   "source": [
    "spam = 3\n",
    "if (spam == 1): \n",
    "    print(\"Hello\")\n",
    "elif (spam == 2):\n",
    "    print(\"Howdy\")\n",
    "else:\n",
    "    print(\"Greetings\")"
   ]
  },
  {
   "cell_type": "markdown",
   "id": "136fb508",
   "metadata": {},
   "source": [
    "Question 9 - If your programme is stuck in an endless loop, what keys you’ll press?\n",
    "\n",
    "Answer - Ctrl + D"
   ]
  },
  {
   "cell_type": "markdown",
   "id": "922ad8c6",
   "metadata": {},
   "source": [
    "Question 10. How can you tell the difference between break and continue?\n",
    "\n",
    "Answer - Break is used to break a loop whereas continue is to send the loop to the next iteration."
   ]
  },
  {
   "cell_type": "markdown",
   "id": "958083d0",
   "metadata": {},
   "source": [
    "Question 11 - In a for loop, what is the difference between range(10), range(0, 10), and range(0,10, 1)\n",
    "\n",
    "Answer 11 - range(10) is used to make a range from the start, in range(0,10) we can define where the range starts in this case 0, range(0, 10, 1) which as in this we can define the step size as well."
   ]
  },
  {
   "cell_type": "markdown",
   "id": "77019171",
   "metadata": {},
   "source": [
    "Question 12. Write a short program that prints the numbers 1 to 10 using a for loop. Then write an equivalent\n",
    "program that prints the numbers 1 to 10 using a while loop.\n",
    "\n",
    "Answer:"
   ]
  },
  {
   "cell_type": "code",
   "execution_count": 10,
   "id": "f3b2364c",
   "metadata": {},
   "outputs": [
    {
     "name": "stdout",
     "output_type": "stream",
     "text": [
      "1\n",
      "2\n",
      "3\n",
      "4\n",
      "5\n",
      "6\n",
      "7\n",
      "8\n",
      "9\n"
     ]
    }
   ],
   "source": [
    "for i in range(1, 10):\n",
    "    print(i)"
   ]
  },
  {
   "cell_type": "code",
   "execution_count": 18,
   "id": "cf410a4c",
   "metadata": {},
   "outputs": [
    {
     "name": "stdout",
     "output_type": "stream",
     "text": [
      "1\n",
      "2\n",
      "3\n",
      "4\n",
      "5\n",
      "6\n",
      "7\n",
      "8\n",
      "9\n",
      "10\n"
     ]
    }
   ],
   "source": [
    "i = 1\n",
    "while i < 11:\n",
    "    print(i)\n",
    "    i = i + 1"
   ]
  },
  {
   "cell_type": "code",
   "execution_count": 19,
   "id": "e083e832",
   "metadata": {},
   "outputs": [],
   "source": [
    "Question 13 - If you had a function named bacon() inside a module named spam, how would you call it after importing spam?"
   ]
  },
  {
   "cell_type": "markdown",
   "id": "418c0fae",
   "metadata": {},
   "source": [
    "Question 13 - If you had a function named bacon() inside a module named spam, how would you call it after importing spam"
   ]
  },
  {
   "cell_type": "raw",
   "id": "35fa539c",
   "metadata": {},
   "source": [
    "import spam\n",
    "spam.bacon()"
   ]
  }
 ],
 "metadata": {
  "kernelspec": {
   "display_name": "Python 3",
   "language": "python",
   "name": "python3"
  },
  "language_info": {
   "codemirror_mode": {
    "name": "ipython",
    "version": 3
   },
   "file_extension": ".py",
   "mimetype": "text/x-python",
   "name": "python",
   "nbconvert_exporter": "python",
   "pygments_lexer": "ipython3",
   "version": "3.8.6"
  }
 },
 "nbformat": 4,
 "nbformat_minor": 5
}

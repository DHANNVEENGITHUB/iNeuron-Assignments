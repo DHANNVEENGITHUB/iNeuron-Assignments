{
 "cells": [
  {
   "cell_type": "markdown",
   "id": "135e6837",
   "metadata": {},
   "source": [
    "Question 1 - What is the purpose of Python's OOP?\n",
    "Answer - Python's OOP can be used to create a blueprint for creating objects. It can be used to increase effeciency and it functions on the basis of classes and object"
   ]
  },
  {
   "cell_type": "markdown",
   "id": "81027f86",
   "metadata": {},
   "source": [
    "Question 2 - What is the difference between string and variable?\n",
    "\n",
    "Answer - A variable is a placeholder which holds values and datatypes such as string and integer values and string is a text put inside double or single quotes."
   ]
  },
  {
   "cell_type": "markdown",
   "id": "6b5933d2",
   "metadata": {},
   "source": [
    "Question 3 - Describe three different data types.\n",
    "\n",
    "Answer:\n",
    "1. String - A string is a datatype that holds text values and is put inside single or double quotes.\n",
    "2. Int/Integer - An Integer is a datatype that holds integer or number values.\n",
    "3. Boolean - A Boolean is a datatype that holds True for 1 or False for 0 which are binary numbers. "
   ]
  },
  {
   "cell_type": "markdown",
   "id": "d2fbd271",
   "metadata": {},
   "source": [
    "Question 4 - What is an expression made up of? What do all expressions do?\n",
    "\n",
    "Answer - An expression is made up of operators and operations, they are usually used to find values like true or false or mathematical values.                  \n",
    "Eg:"
   ]
  },
  {
   "cell_type": "code",
   "execution_count": 1,
   "id": "edb4f262",
   "metadata": {},
   "outputs": [],
   "source": [
    "x = 4 + 43"
   ]
  },
  {
   "cell_type": "code",
   "execution_count": 2,
   "id": "10476c98",
   "metadata": {},
   "outputs": [],
   "source": [
    "y = True - False"
   ]
  },
  {
   "cell_type": "markdown",
   "id": "0d300d16",
   "metadata": {},
   "source": [
    "Question 5 - This assignment statements, like spam = 10. What is the difference between an\n",
    "expression and a statement?\n",
    "\n",
    "Answer - Expressions are operations and values whereas statements are like declaring a variable. For Eg: an example of expressions is 5 + 7j whereas example of statements is y = 34 + 7"
   ]
  },
  {
   "cell_type": "markdown",
   "id": "575608d4",
   "metadata": {},
   "source": [
    "Question 6 - After running the following code, what does the variable bacon contain? bacon = 22, bacon + 1             \n",
    "Answer - 23"
   ]
  },
  {
   "cell_type": "markdown",
   "id": "ccbf90d7",
   "metadata": {},
   "source": [
    "Question 7 - What should the values of the following two terms be?                                             \n",
    "Answer - 'spamspamspam'"
   ]
  },
  {
   "cell_type": "markdown",
   "id": "fbbf1151",
   "metadata": {},
   "source": [
    "Question 8 - Why is eggs a valid variable name while 100 is invalid?\n",
    "\n",
    "Answer - eggs contains text and starts with alphabets whereas 100 starts with a number which is syntactically wrong in python."
   ]
  },
  {
   "cell_type": "markdown",
   "id": "7a2e584c",
   "metadata": {},
   "source": [
    "Question 9 - What three functions can be used to get the integer, floating-point number, or string version of a value?!\n",
    "\n",
    "Answer 9 - int(val) float(val) str(val)"
   ]
  },
  {
   "cell_type": "markdown",
   "id": "f92964e4",
   "metadata": {},
   "source": [
    "Question 10 - Why does this expression cause an error? How can you fix it?\n",
    "\n",
    "Answer 10 - To be added to a string the integer value must be converted to string with the str(99) function."
   ]
  },
  {
   "cell_type": "markdown",
   "id": "714ba2e3",
   "metadata": {},
   "source": [
    "## "
   ]
  }
 ],
 "metadata": {
  "kernelspec": {
   "display_name": "Python 3",
   "language": "python",
   "name": "python3"
  },
  "language_info": {
   "codemirror_mode": {
    "name": "ipython",
    "version": 3
   },
   "file_extension": ".py",
   "mimetype": "text/x-python",
   "name": "python",
   "nbconvert_exporter": "python",
   "pygments_lexer": "ipython3",
   "version": "3.8.6"
  }
 },
 "nbformat": 4,
 "nbformat_minor": 5
}

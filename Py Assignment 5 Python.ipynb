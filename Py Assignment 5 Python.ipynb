{
 "cells": [
  {
   "cell_type": "markdown",
   "id": "7df61fec",
   "metadata": {},
   "source": [
    "Question 1 - What does an empty dictionary code look like?\n",
    "\n",
    "Answer - a = {}"
   ]
  },
  {
   "cell_type": "markdown",
   "id": "759bac0b",
   "metadata": {},
   "source": [
    "Question 2 - What is the value of a dictionary value with the key 'foo' and the value 42?    \n",
    "Answer:                                                      "
   ]
  },
  {
   "cell_type": "code",
   "execution_count": 5,
   "id": "aa7d7bcf",
   "metadata": {},
   "outputs": [
    {
     "name": "stdout",
     "output_type": "stream",
     "text": [
      "{'foo': 42}\n"
     ]
    }
   ],
   "source": [
    "a = {'foo': 42}\n",
    "print(a)"
   ]
  },
  {
   "cell_type": "markdown",
   "id": "d024bc24",
   "metadata": {},
   "source": [
    "Question 3 - What is the most significant distinction between a dictionary and a list?\n",
    "\n",
    "Answer - Lists just have elements whereas dictionaries have key value pairs."
   ]
  },
  {
   "cell_type": "markdown",
   "id": "4f458e13",
   "metadata": {},
   "source": [
    "Question 4 - What happens if you try to access spam[\"foo\"] if spam is {'bar': 100}?\n",
    "\n",
    "Answer - It will give a KeyError."
   ]
  },
  {
   "attachments": {},
   "cell_type": "markdown",
   "id": "11bede8e",
   "metadata": {},
   "source": [
    "Question 5 - 5. If a dictionary is stored in spam, what is the difference between the expressions 'cat' in spam and 'cat' in spam.keys()?\n",
    "\n",
    "Answer - Dictionaries used key value pairs, hence the cat in spam.keys() is a key whereas the cat in expressions is the value for that key. {'cat': 'cat'}"
   ]
  },
  {
   "cell_type": "markdown",
   "id": "82f59270",
   "metadata": {},
   "source": [
    "Question 6 - 5. If a dictionary is stored in spam, what is the difference between the expressions 'cat' in spam and 'cat' in spam.keys()?\n",
    "\n",
    "Answer - Dictionaries used key value pairs, hence the cat in spam.keys() is a key whereas the cat in expressions is the value for that key. {'cat': 'cat'}"
   ]
  },
  {
   "cell_type": "markdown",
   "id": "6d3424c0",
   "metadata": {},
   "source": [
    "Question 8 - How do you \"pretty print\" dictionary values using which module and function?\n",
    "\n",
    "Answer:"
   ]
  },
  {
   "cell_type": "code",
   "execution_count": 8,
   "id": "18476f70",
   "metadata": {},
   "outputs": [],
   "source": [
    "import pprint"
   ]
  },
  {
   "cell_type": "code",
   "execution_count": 11,
   "id": "bb9f059f",
   "metadata": {},
   "outputs": [
    {
     "name": "stdout",
     "output_type": "stream",
     "text": [
      "{'foo': 42}\n"
     ]
    }
   ],
   "source": [
    "pprint.pprint(a)"
   ]
  },
  {
   "cell_type": "code",
   "execution_count": null,
   "id": "0190ed33",
   "metadata": {},
   "outputs": [],
   "source": []
  }
 ],
 "metadata": {
  "kernelspec": {
   "display_name": "Python 3",
   "language": "python",
   "name": "python3"
  },
  "language_info": {
   "codemirror_mode": {
    "name": "ipython",
    "version": 3
   },
   "file_extension": ".py",
   "mimetype": "text/x-python",
   "name": "python",
   "nbconvert_exporter": "python",
   "pygments_lexer": "ipython3",
   "version": "3.8.6"
  }
 },
 "nbformat": 4,
 "nbformat_minor": 5
}
